{
 "cells": [
  {
   "cell_type": "markdown",
   "id": "6459b31b-8719-492a-b5ca-cfb72485b6ce",
   "metadata": {},
   "source": [
    "## <span style=\"color:#ff5f27\"> 📝 Imports"
   ]
  },
  {
   "cell_type": "code",
   "execution_count": 165,
   "id": "musical-marble",
   "metadata": {},
   "outputs": [],
   "source": [
    "import json\n",
    "\n",
    "import pandas as pd\n",
    "import numpy as np\n",
    "\n",
    "import matplotlib.pyplot as plt\n",
    "import seaborn as sns"
   ]
  },
  {
   "cell_type": "code",
   "execution_count": 166,
   "id": "0649ce38-eecc-4f6a-b514-74ea66664e9d",
   "metadata": {},
   "outputs": [
    {
     "name": "stdout",
     "output_type": "stream",
     "text": [
      "⛳️ The shape of df: (23357, 8)\n"
     ]
    },
    {
     "data": {
      "text/html": [
       "<div>\n",
       "<style scoped>\n",
       "    .dataframe tbody tr th:only-of-type {\n",
       "        vertical-align: middle;\n",
       "    }\n",
       "\n",
       "    .dataframe tbody tr th {\n",
       "        vertical-align: top;\n",
       "    }\n",
       "\n",
       "    .dataframe thead th {\n",
       "        text-align: right;\n",
       "    }\n",
       "</style>\n",
       "<table border=\"1\" class=\"dataframe\">\n",
       "  <thead>\n",
       "    <tr style=\"text-align: right;\">\n",
       "      <th></th>\n",
       "      <th>userid</th>\n",
       "      <th>user_state</th>\n",
       "      <th>event_name</th>\n",
       "      <th>event_attributes</th>\n",
       "      <th>event_created_date</th>\n",
       "      <th>event_platform</th>\n",
       "      <th>device_manufacture</th>\n",
       "      <th>device_model</th>\n",
       "    </tr>\n",
       "  </thead>\n",
       "  <tbody>\n",
       "    <tr>\n",
       "      <th>0</th>\n",
       "      <td>c95c777785faec8dd910d019d7278ebe</td>\n",
       "      <td>CA</td>\n",
       "      <td>Add Vehicle Success</td>\n",
       "      <td>{\"Make\":\"Dodge\",\"Model\":\"Caravan\",\"Color\":\"Whi...</td>\n",
       "      <td>2022-01-16 17:03:04</td>\n",
       "      <td>android</td>\n",
       "      <td>samsung</td>\n",
       "      <td>SM-N975U</td>\n",
       "    </tr>\n",
       "    <tr>\n",
       "      <th>1</th>\n",
       "      <td>c95c777785faec8dd910d019d7278ebe</td>\n",
       "      <td>CA</td>\n",
       "      <td>Add Vehicle Break</td>\n",
       "      <td>{}</td>\n",
       "      <td>2022-01-16 17:07:47</td>\n",
       "      <td>android</td>\n",
       "      <td>samsung</td>\n",
       "      <td>SM-N975U</td>\n",
       "    </tr>\n",
       "    <tr>\n",
       "      <th>2</th>\n",
       "      <td>f344be2d9a042b7444f3cc5279e38ef1</td>\n",
       "      <td>FL</td>\n",
       "      <td>Calculator View</td>\n",
       "      <td>{}</td>\n",
       "      <td>2022-01-16 17:16:25</td>\n",
       "      <td>android</td>\n",
       "      <td>samsung</td>\n",
       "      <td>SM-G973U1</td>\n",
       "    </tr>\n",
       "    <tr>\n",
       "      <th>3</th>\n",
       "      <td>c95c777785faec8dd910d019d7278ebe</td>\n",
       "      <td>CA</td>\n",
       "      <td>Add Payment Method Success</td>\n",
       "      <td>{\"Payment Method\":\"Credit\",\"Tokenized Pay\":\"\"}</td>\n",
       "      <td>2022-01-16 17:24:22</td>\n",
       "      <td>android</td>\n",
       "      <td>samsung</td>\n",
       "      <td>SM-N975U</td>\n",
       "    </tr>\n",
       "    <tr>\n",
       "      <th>4</th>\n",
       "      <td>e331ed81422d8fba55520a43a872e701</td>\n",
       "      <td>IL</td>\n",
       "      <td>Sign Up Success</td>\n",
       "      <td>{\"Method\":\"Apple\"}</td>\n",
       "      <td>2022-01-16 17:34:51</td>\n",
       "      <td>ios</td>\n",
       "      <td>Apple</td>\n",
       "      <td>iPhone12,1</td>\n",
       "    </tr>\n",
       "  </tbody>\n",
       "</table>\n",
       "</div>"
      ],
      "text/plain": [
       "                             userid user_state                  event_name  \\\n",
       "0  c95c777785faec8dd910d019d7278ebe         CA         Add Vehicle Success   \n",
       "1  c95c777785faec8dd910d019d7278ebe         CA           Add Vehicle Break   \n",
       "2  f344be2d9a042b7444f3cc5279e38ef1         FL             Calculator View   \n",
       "3  c95c777785faec8dd910d019d7278ebe         CA  Add Payment Method Success   \n",
       "4  e331ed81422d8fba55520a43a872e701         IL             Sign Up Success   \n",
       "\n",
       "                                    event_attributes   event_created_date  \\\n",
       "0  {\"Make\":\"Dodge\",\"Model\":\"Caravan\",\"Color\":\"Whi...  2022-01-16 17:03:04   \n",
       "1                                                 {}  2022-01-16 17:07:47   \n",
       "2                                                 {}  2022-01-16 17:16:25   \n",
       "3     {\"Payment Method\":\"Credit\",\"Tokenized Pay\":\"\"}  2022-01-16 17:24:22   \n",
       "4                                 {\"Method\":\"Apple\"}  2022-01-16 17:34:51   \n",
       "\n",
       "  event_platform device_manufacture device_model  \n",
       "0        android            samsung     SM-N975U  \n",
       "1        android            samsung     SM-N975U  \n",
       "2        android            samsung    SM-G973U1  \n",
       "3        android            samsung     SM-N975U  \n",
       "4            ios              Apple   iPhone12,1  "
      ]
     },
     "execution_count": 166,
     "metadata": {},
     "output_type": "execute_result"
    }
   ],
   "source": [
    "df = pd.read_csv('int20h-ds-test-dataset.csv')\n",
    "\n",
    "print(f\"⛳️ The shape of df: {df.shape}\")\n",
    "df.head()"
   ]
  },
  {
   "cell_type": "markdown",
   "id": "4c23f14d-bf12-4618-b4a4-5629d7fa0405",
   "metadata": {},
   "source": [
    "# <span style=\"color:#ff5f27\"> 👨🏻‍🎨 Data Exploration"
   ]
  },
  {
   "cell_type": "code",
   "execution_count": 167,
   "id": "2a2c585c-66f6-4736-8385-caebb6c8063e",
   "metadata": {},
   "outputs": [
    {
     "name": "stdout",
     "output_type": "stream",
     "text": [
      "<class 'pandas.core.frame.DataFrame'>\n",
      "RangeIndex: 23357 entries, 0 to 23356\n",
      "Data columns (total 8 columns):\n",
      " #   Column              Non-Null Count  Dtype \n",
      "---  ------              --------------  ----- \n",
      " 0   userid              23357 non-null  object\n",
      " 1   user_state          23286 non-null  object\n",
      " 2   event_name          23357 non-null  object\n",
      " 3   event_attributes    23357 non-null  object\n",
      " 4   event_created_date  23357 non-null  object\n",
      " 5   event_platform      23357 non-null  object\n",
      " 6   device_manufacture  15847 non-null  object\n",
      " 7   device_model        15847 non-null  object\n",
      "dtypes: object(8)\n",
      "memory usage: 1.4+ MB\n"
     ]
    }
   ],
   "source": [
    "df.info()"
   ]
  },
  {
   "cell_type": "markdown",
   "id": "ec57d886-28e2-4bc0-b0a4-abae8fad4007",
   "metadata": {},
   "source": [
    "### Lets find out how many NaNs we have."
   ]
  },
  {
   "cell_type": "code",
   "execution_count": 168,
   "id": "ff5bbea0-b413-40b8-bd74-c42a913b2fde",
   "metadata": {},
   "outputs": [
    {
     "name": "stdout",
     "output_type": "stream",
     "text": [
      "\u001b[4mNUMBER OF NULL VALUES PER COLUMN:\u001b[0m\n"
     ]
    },
    {
     "data": {
      "image/png": "[encoded data removed]",
      "text/plain": [
       "<Figure size 640x480 with 1 Axes>"
      ]
     },
     "metadata": {},
     "output_type": "display_data"
    },
    {
     "name": "stdout",
     "output_type": "stream",
     "text": [
      "userid                   0\n",
      "user_state              71\n",
      "event_name               0\n",
      "event_attributes         0\n",
      "event_created_date       0\n",
      "event_platform           0\n",
      "device_manufacture    7510\n",
      "device_model          7510\n",
      "dtype: int64\n"
     ]
    }
   ],
   "source": [
    "print(\"\\033[4mNUMBER OF NULL VALUES PER COLUMN:\\033[0m\")\n",
    "\n",
    "sns.heatmap(df.isnull(),cbar=False,cmap='viridis')\n",
    "plt.show()\n",
    "print(df.isnull().sum())\n",
    "cols_with_nan = df.columns[df.isna().any()].tolist()"
   ]
  },
  {
   "cell_type": "code",
   "execution_count": 169,
   "id": "2cb00329-310e-43e7-aac2-156e19276ae2",
   "metadata": {},
   "outputs": [],
   "source": [
    "# Since we have only 71 NaNs in 'user_state' column, lets simply drop that rows.\n",
    "df = df.dropna(subset=[\"user_state\"]).reset_index(drop=True)"
   ]
  },
  {
   "cell_type": "code",
   "execution_count": 170,
   "id": "4a4450b1-03df-43df-ac89-b83786cc1ae0",
   "metadata": {},
   "outputs": [],
   "source": [
    "values, labels  = df[\"event_platform\"].value_counts().agg({'index','values'})\n",
    "event_platform_dict = {value: label for value, label in zip(values, labels)}"
   ]
  },
  {
   "cell_type": "code",
   "execution_count": 171,
   "id": "fb600669-3972-48cf-8eee-1c18640726c3",
   "metadata": {},
   "outputs": [
    {
     "data": {
      "text/plain": [
       "{9529: 'ios', 7510: 'outofband', 6247: 'android'}"
      ]
     },
     "execution_count": 171,
     "metadata": {},
     "output_type": "execute_result"
    }
   ],
   "source": [
    "event_platform_dict"
   ]
  },
  {
   "cell_type": "markdown",
   "id": "545b262d-4517-475a-9dbe-347b2f078397",
   "metadata": {},
   "source": [
    "### Seems that around 32% of all records have `platform` = \"outofband\"."
   ]
  },
  {
   "cell_type": "code",
   "execution_count": 172,
   "id": "c2849cd4-a8bb-4ee6-bc56-22497beb88fd",
   "metadata": {},
   "outputs": [
    {
     "data": {
      "text/html": [
       "<div>\n",
       "<style scoped>\n",
       "    .dataframe tbody tr th:only-of-type {\n",
       "        vertical-align: middle;\n",
       "    }\n",
       "\n",
       "    .dataframe tbody tr th {\n",
       "        vertical-align: top;\n",
       "    }\n",
       "\n",
       "    .dataframe thead th {\n",
       "        text-align: right;\n",
       "    }\n",
       "</style>\n",
       "<table border=\"1\" class=\"dataframe\">\n",
       "  <thead>\n",
       "    <tr style=\"text-align: right;\">\n",
       "      <th></th>\n",
       "      <th>userid</th>\n",
       "      <th>user_state</th>\n",
       "      <th>event_name</th>\n",
       "      <th>event_attributes</th>\n",
       "      <th>event_created_date</th>\n",
       "      <th>event_platform</th>\n",
       "      <th>device_manufacture</th>\n",
       "      <th>device_model</th>\n",
       "    </tr>\n",
       "  </thead>\n",
       "  <tbody>\n",
       "    <tr>\n",
       "      <th>22</th>\n",
       "      <td>c664cc762bdcb88230b4b4f07e3b7d2e</td>\n",
       "      <td>CA</td>\n",
       "      <td>Transaction Refund</td>\n",
       "      <td>{\"Id\":\"708ee8f2012042b121be7dcdd6df256a\",\"Amou...</td>\n",
       "      <td>2022-01-16 21:41:05</td>\n",
       "      <td>outofband</td>\n",
       "      <td>NaN</td>\n",
       "      <td>NaN</td>\n",
       "    </tr>\n",
       "    <tr>\n",
       "      <th>33</th>\n",
       "      <td>017f4557810b3ba165d2959c17b916b6</td>\n",
       "      <td>TX</td>\n",
       "      <td>Subscription Premium</td>\n",
       "      <td>{\"Start Date\":\"2022-01-16\",\"Renewal Date\":\"202...</td>\n",
       "      <td>2022-01-17 00:04:58</td>\n",
       "      <td>outofband</td>\n",
       "      <td>NaN</td>\n",
       "      <td>NaN</td>\n",
       "    </tr>\n",
       "    <tr>\n",
       "      <th>71</th>\n",
       "      <td>0d51394c39dbf15021ccd09155ee6257</td>\n",
       "      <td>FL</td>\n",
       "      <td>Order</td>\n",
       "      <td>{\"Premium Membership\":\"True\"}</td>\n",
       "      <td>2022-01-15 09:23:48</td>\n",
       "      <td>outofband</td>\n",
       "      <td>NaN</td>\n",
       "      <td>NaN</td>\n",
       "    </tr>\n",
       "    <tr>\n",
       "      <th>72</th>\n",
       "      <td>0d51394c39dbf15021ccd09155ee6257</td>\n",
       "      <td>FL</td>\n",
       "      <td>Order</td>\n",
       "      <td>{\"Premium Membership\":\"True\"}</td>\n",
       "      <td>2022-01-15 09:23:48</td>\n",
       "      <td>outofband</td>\n",
       "      <td>NaN</td>\n",
       "      <td>NaN</td>\n",
       "    </tr>\n",
       "    <tr>\n",
       "      <th>73</th>\n",
       "      <td>0d51394c39dbf15021ccd09155ee6257</td>\n",
       "      <td>FL</td>\n",
       "      <td>Order</td>\n",
       "      <td>{\"Premium Membership\":\"True\"}</td>\n",
       "      <td>2022-01-15 10:16:12</td>\n",
       "      <td>outofband</td>\n",
       "      <td>NaN</td>\n",
       "      <td>NaN</td>\n",
       "    </tr>\n",
       "    <tr>\n",
       "      <th>...</th>\n",
       "      <td>...</td>\n",
       "      <td>...</td>\n",
       "      <td>...</td>\n",
       "      <td>...</td>\n",
       "      <td>...</td>\n",
       "      <td>...</td>\n",
       "      <td>...</td>\n",
       "      <td>...</td>\n",
       "    </tr>\n",
       "    <tr>\n",
       "      <th>23267</th>\n",
       "      <td>81d7b7d89e06767d80a1aba25e4e3609</td>\n",
       "      <td>CA</td>\n",
       "      <td>Order</td>\n",
       "      <td>{\"Premium Membership\":\"True\"}</td>\n",
       "      <td>2022-04-16 10:57:42</td>\n",
       "      <td>outofband</td>\n",
       "      <td>NaN</td>\n",
       "      <td>NaN</td>\n",
       "    </tr>\n",
       "    <tr>\n",
       "      <th>23268</th>\n",
       "      <td>81d7b7d89e06767d80a1aba25e4e3609</td>\n",
       "      <td>CA</td>\n",
       "      <td>Order</td>\n",
       "      <td>{\"Premium Membership\":\"True\"}</td>\n",
       "      <td>2022-04-16 10:57:42</td>\n",
       "      <td>outofband</td>\n",
       "      <td>NaN</td>\n",
       "      <td>NaN</td>\n",
       "    </tr>\n",
       "    <tr>\n",
       "      <th>23274</th>\n",
       "      <td>2c597755067d64bf12050cbd7b62c30f</td>\n",
       "      <td>MD</td>\n",
       "      <td>Subscription Premium Cancel</td>\n",
       "      <td>{}</td>\n",
       "      <td>2022-04-16 14:15:24</td>\n",
       "      <td>outofband</td>\n",
       "      <td>NaN</td>\n",
       "      <td>NaN</td>\n",
       "    </tr>\n",
       "    <tr>\n",
       "      <th>23276</th>\n",
       "      <td>d545e0069a53fcc868e01726663cd449</td>\n",
       "      <td>CA</td>\n",
       "      <td>Subscription Premium Cancel</td>\n",
       "      <td>{}</td>\n",
       "      <td>2022-04-16 14:50:13</td>\n",
       "      <td>outofband</td>\n",
       "      <td>NaN</td>\n",
       "      <td>NaN</td>\n",
       "    </tr>\n",
       "    <tr>\n",
       "      <th>23285</th>\n",
       "      <td>679eba26c4e75e0afb178360becfa21b</td>\n",
       "      <td>CA</td>\n",
       "      <td>Subscription Premium</td>\n",
       "      <td>{\"Start Date\":\"2022-04-16\",\"Renewal Date\":\"202...</td>\n",
       "      <td>2022-04-16 20:50:39</td>\n",
       "      <td>outofband</td>\n",
       "      <td>NaN</td>\n",
       "      <td>NaN</td>\n",
       "    </tr>\n",
       "  </tbody>\n",
       "</table>\n",
       "<p>7510 rows × 8 columns</p>\n",
       "</div>"
      ],
      "text/plain": [
       "                                 userid user_state  \\\n",
       "22     c664cc762bdcb88230b4b4f07e3b7d2e         CA   \n",
       "33     017f4557810b3ba165d2959c17b916b6         TX   \n",
       "71     0d51394c39dbf15021ccd09155ee6257         FL   \n",
       "72     0d51394c39dbf15021ccd09155ee6257         FL   \n",
       "73     0d51394c39dbf15021ccd09155ee6257         FL   \n",
       "...                                 ...        ...   \n",
       "23267  81d7b7d89e06767d80a1aba25e4e3609         CA   \n",
       "23268  81d7b7d89e06767d80a1aba25e4e3609         CA   \n",
       "23274  2c597755067d64bf12050cbd7b62c30f         MD   \n",
       "23276  d545e0069a53fcc868e01726663cd449         CA   \n",
       "23285  679eba26c4e75e0afb178360becfa21b         CA   \n",
       "\n",
       "                        event_name  \\\n",
       "22              Transaction Refund   \n",
       "33            Subscription Premium   \n",
       "71                           Order   \n",
       "72                           Order   \n",
       "73                           Order   \n",
       "...                            ...   \n",
       "23267                        Order   \n",
       "23268                        Order   \n",
       "23274  Subscription Premium Cancel   \n",
       "23276  Subscription Premium Cancel   \n",
       "23285         Subscription Premium   \n",
       "\n",
       "                                        event_attributes   event_created_date  \\\n",
       "22     {\"Id\":\"708ee8f2012042b121be7dcdd6df256a\",\"Amou...  2022-01-16 21:41:05   \n",
       "33     {\"Start Date\":\"2022-01-16\",\"Renewal Date\":\"202...  2022-01-17 00:04:58   \n",
       "71                         {\"Premium Membership\":\"True\"}  2022-01-15 09:23:48   \n",
       "72                         {\"Premium Membership\":\"True\"}  2022-01-15 09:23:48   \n",
       "73                         {\"Premium Membership\":\"True\"}  2022-01-15 10:16:12   \n",
       "...                                                  ...                  ...   \n",
       "23267                      {\"Premium Membership\":\"True\"}  2022-04-16 10:57:42   \n",
       "23268                      {\"Premium Membership\":\"True\"}  2022-04-16 10:57:42   \n",
       "23274                                                 {}  2022-04-16 14:15:24   \n",
       "23276                                                 {}  2022-04-16 14:50:13   \n",
       "23285  {\"Start Date\":\"2022-04-16\",\"Renewal Date\":\"202...  2022-04-16 20:50:39   \n",
       "\n",
       "      event_platform device_manufacture device_model  \n",
       "22         outofband                NaN          NaN  \n",
       "33         outofband                NaN          NaN  \n",
       "71         outofband                NaN          NaN  \n",
       "72         outofband                NaN          NaN  \n",
       "73         outofband                NaN          NaN  \n",
       "...              ...                ...          ...  \n",
       "23267      outofband                NaN          NaN  \n",
       "23268      outofband                NaN          NaN  \n",
       "23274      outofband                NaN          NaN  \n",
       "23276      outofband                NaN          NaN  \n",
       "23285      outofband                NaN          NaN  \n",
       "\n",
       "[7510 rows x 8 columns]"
      ]
     },
     "execution_count": 172,
     "metadata": {},
     "output_type": "execute_result"
    }
   ],
   "source": [
    "df[df.event_platform == \"outofband\"]"
   ]
  },
  {
   "cell_type": "markdown",
   "id": "39aff40e-2324-49db-85c1-4db7f2e999fb",
   "metadata": {},
   "source": [
    "### And if `platform` is \"outofband\", then we have NaNs in `device_manufacture` and `device_model` columns. Lets fix it."
   ]
  },
  {
   "cell_type": "markdown",
   "id": "65f48034-6013-4edb-8551-554e54fc46c7",
   "metadata": {},
   "source": [
    "#### Here I took one random user ID, that has at least one \"outofband\" `event_platform` valuem, and checked unique `event_platform` "
   ]
  },
  {
   "cell_type": "code",
   "execution_count": 173,
   "id": "35f09cf8-f5db-4def-8e4b-b1b0d7db1db0",
   "metadata": {},
   "outputs": [
    {
     "data": {
      "text/plain": [
       "array(['outofband', 'ios'], dtype=object)"
      ]
     },
     "execution_count": 173,
     "metadata": {},
     "output_type": "execute_result"
    }
   ],
   "source": [
    "df[df.userid == \"0d51394c39dbf15021ccd09155ee6257\"][\"event_platform\"].unique()"
   ]
  },
  {
   "cell_type": "code",
   "execution_count": 174,
   "id": "c720625d-a295-4402-ae07-3192f99ced59",
   "metadata": {},
   "outputs": [],
   "source": [
    "# df[df.userid == \"0d51394c39dbf15021ccd09155ee6257\"]"
   ]
  },
  {
   "cell_type": "markdown",
   "id": "32b96be6-8b01-4785-9d0a-2c6042978af5",
   "metadata": {},
   "source": [
    "#### So, we can say that probably all of his other interactions with our product were done using IOS. Hence we can simply fill all `event_platform` with correct data and fill NaNs in `device_manufacture` and `device_model` columns using this insight."
   ]
  },
  {
   "cell_type": "code",
   "execution_count": 175,
   "id": "7cf4765f-32ca-401f-9c0d-25ac8ae530f8",
   "metadata": {},
   "outputs": [],
   "source": [
    "problematic_users = df[df.event_platform == \"outofband\"].userid.unique()"
   ]
  },
  {
   "cell_type": "code",
   "execution_count": 176,
   "id": "07f1646f-54ea-45c4-86f7-8b6e05eeca73",
   "metadata": {},
   "outputs": [],
   "source": [
    "# firstly we need to sort our values, cause I will be using fillna with .bfill().ffill() methods simultaneously. \n",
    "df = df.sort_values([\"userid\", \"event_created_date\"])"
   ]
  },
  {
   "cell_type": "code",
   "execution_count": 177,
   "id": "3539a9f5-c8a8-4b3f-a4c4-f7701411fa42",
   "metadata": {},
   "outputs": [],
   "source": [
    "# replace \"outofband\" with np.nan\n",
    "df.loc[df[\"event_platform\"] == \"outofband\", [\"event_platform\"]] = np.nan"
   ]
  },
  {
   "cell_type": "code",
   "execution_count": 178,
   "id": "9490760f-8f8c-43ef-a824-1976b96f1bb2",
   "metadata": {},
   "outputs": [],
   "source": [
    "# fill correct data\n",
    "df['event_platform'] = df.groupby(['userid'])['event_platform'].bfill().ffill()\n",
    "df['device_manufacture'] = df.groupby(['userid'])['device_manufacture'].bfill().ffill()\n",
    "df['device_model'] = df.groupby(['userid'])['device_model'].bfill().ffill()"
   ]
  },
  {
   "cell_type": "markdown",
   "id": "fc9b3cfe-112f-4e49-b3be-02df14c90239",
   "metadata": {},
   "source": [
    "#### Now everything looks pretty."
   ]
  },
  {
   "cell_type": "code",
   "execution_count": 179,
   "id": "268cdf36-e343-4ba2-af1e-878e96f36521",
   "metadata": {},
   "outputs": [],
   "source": [
    "# df[df.userid == \"0d51394c39dbf15021ccd09155ee6257\"]"
   ]
  },
  {
   "cell_type": "code",
   "execution_count": 180,
   "id": "22ffd1f8-2980-467d-a991-73625c327aa8",
   "metadata": {},
   "outputs": [
    {
     "name": "stdout",
     "output_type": "stream",
     "text": [
      "\u001b[4mNUMBER OF NULL VALUES PER COLUMN:\u001b[0m\n"
     ]
    },
    {
     "data": {
      "image/png": "[encoded data removed]",
      "text/plain": [
       "<Figure size 640x480 with 1 Axes>"
      ]
     },
     "metadata": {},
     "output_type": "display_data"
    },
    {
     "name": "stdout",
     "output_type": "stream",
     "text": [
      "userid                0\n",
      "user_state            0\n",
      "event_name            0\n",
      "event_attributes      0\n",
      "event_created_date    0\n",
      "event_platform        0\n",
      "device_manufacture    0\n",
      "device_model          0\n",
      "dtype: int64\n"
     ]
    }
   ],
   "source": [
    "print(\"\\033[4mNUMBER OF NULL VALUES PER COLUMN:\\033[0m\")\n",
    "\n",
    "sns.heatmap(df.isnull(),cbar=False,cmap='viridis')\n",
    "plt.show()\n",
    "print(df.isnull().sum())\n",
    "cols_with_nan = df.columns[df.isna().any()].tolist()"
   ]
  },
  {
   "cell_type": "markdown",
   "id": "88afb6bc-7404-4cac-bfd5-ba46c510e022",
   "metadata": {},
   "source": [
    "### Lets take a loot at next column - `event_name`"
   ]
  },
  {
   "cell_type": "code",
   "execution_count": 181,
   "id": "2b461e0e-ba1c-4818-a16e-ce31ef6fce36",
   "metadata": {},
   "outputs": [],
   "source": [
    "values, labels  = df[\"event_name\"].value_counts().agg({'index','values'})\n",
    "event_name_dict = {value: label for value, label in zip(values,  labels)}"
   ]
  },
  {
   "cell_type": "code",
   "execution_count": 182,
   "id": "f0bf7f1e-ed37-46a0-b963-d8f24d476b36",
   "metadata": {},
   "outputs": [
    {
     "data": {
      "text/plain": [
       "{6116: 'Order',\n",
       " 3269: 'Sign Up Success',\n",
       " 1922: 'Add Vehicle Success',\n",
       " 1609: 'Account History Transaction Details',\n",
       " 1485: 'Chat Conversation Opened',\n",
       " 1474: 'Wallet Opened',\n",
       " 1202: 'Chat Conversation Started',\n",
       " 1037: 'Add Payment Method Success',\n",
       " 852: 'Email Confirmation Success',\n",
       " 711: 'Subscription Premium',\n",
       " 630: 'Calculator View',\n",
       " 590: 'Sign Out',\n",
       " 498: 'Account Setup Profile Skip',\n",
       " 486: 'Add Vehicle Break',\n",
       " 334: 'Add Payment Method Failed',\n",
       " 310: 'Subscription Premium Renew',\n",
       " 271: 'Subscription Premium Cancel',\n",
       " 222: 'Account Setup Skip',\n",
       " 120: 'Calculator Used',\n",
       " 102: 'Transaction Refund',\n",
       " 24: 'Sign Up Error',\n",
       " 21: 'Add Vehicle Failed',\n",
       " 1: 'Reset Password Set'}"
      ]
     },
     "execution_count": 182,
     "metadata": {},
     "output_type": "execute_result"
    }
   ],
   "source": [
    "event_name_dict"
   ]
  },
  {
   "cell_type": "markdown",
   "id": "26331186-1b59-4ecf-bbed-8ca641ad3b02",
   "metadata": {},
   "source": [
    "#### Probably, `event_name` = \"Chat Conversation Started\" is a result of `event_name` = 'Chat Conversation Opened'"
   ]
  },
  {
   "cell_type": "code",
   "execution_count": 183,
   "id": "9b4dd71f-597d-41f4-b24b-16da9e3aa107",
   "metadata": {},
   "outputs": [],
   "source": [
    "chat_opened_2_rows = list(df[df[\"event_name\"] == 'Chat Conversation Opened'].index[:2])"
   ]
  },
  {
   "cell_type": "code",
   "execution_count": 184,
   "id": "b2959d48-0762-4d0f-a5ca-271b493d7e6d",
   "metadata": {},
   "outputs": [
    {
     "data": {
      "text/plain": [
       "[19639, 19641]"
      ]
     },
     "execution_count": 184,
     "metadata": {},
     "output_type": "execute_result"
    }
   ],
   "source": [
    "chat_opened_2_rows"
   ]
  },
  {
   "cell_type": "code",
   "execution_count": 185,
   "id": "8779f6b8-1f74-4a17-b330-83d8e8792c6e",
   "metadata": {},
   "outputs": [
    {
     "data": {
      "text/plain": [
       "userid                007b54670d72df309afd87befcbb63db\n",
       "user_state                                          CA\n",
       "event_name                    Chat Conversation Opened\n",
       "event_attributes                  {\"From\":\"Dashboard\"}\n",
       "event_created_date                 2022-04-05 22:02:42\n",
       "event_platform                                     ios\n",
       "device_manufacture                               Apple\n",
       "device_model                                iPhone13,4\n",
       "Name: 19639, dtype: object"
      ]
     },
     "execution_count": 185,
     "metadata": {},
     "output_type": "execute_result"
    }
   ],
   "source": [
    "df.loc[chat_opened_2_rows[0]]"
   ]
  },
  {
   "cell_type": "code",
   "execution_count": 186,
   "id": "563ba488-ffb8-421c-a16f-d855d8d18a4d",
   "metadata": {},
   "outputs": [
    {
     "data": {
      "text/plain": [
       "userid                007b54670d72df309afd87befcbb63db\n",
       "user_state                                          CA\n",
       "event_name                    Chat Conversation Opened\n",
       "event_attributes                  {\"From\":\"Dashboard\"}\n",
       "event_created_date                 2022-04-05 22:15:26\n",
       "event_platform                                     ios\n",
       "device_manufacture                               Apple\n",
       "device_model                                iPhone13,4\n",
       "Name: 19641, dtype: object"
      ]
     },
     "execution_count": 186,
     "metadata": {},
     "output_type": "execute_result"
    }
   ],
   "source": [
    "df.loc[chat_opened_2_rows[0] + 2] # seems that one customer can open even 2 or more chats one after another."
   ]
  },
  {
   "cell_type": "code",
   "execution_count": 187,
   "id": "ae794c98-046b-455f-99b1-dca875807699",
   "metadata": {},
   "outputs": [
    {
     "data": {
      "text/plain": [
       "userid                007b54670d72df309afd87befcbb63db\n",
       "user_state                                          CA\n",
       "event_name                   Chat Conversation Started\n",
       "event_attributes                                    {}\n",
       "event_created_date                 2022-04-05 22:15:55\n",
       "event_platform                                     ios\n",
       "device_manufacture                               Apple\n",
       "device_model                                iPhone13,4\n",
       "Name: 19642, dtype: object"
      ]
     },
     "execution_count": 187,
     "metadata": {},
     "output_type": "execute_result"
    }
   ],
   "source": [
    "df.loc[chat_opened_2_rows[0] + 3] # and now we have enent that \"Chat Conversation Started\"."
   ]
  },
  {
   "cell_type": "code",
   "execution_count": 188,
   "id": "exciting-structure",
   "metadata": {},
   "outputs": [],
   "source": [
    "# lets delete then rows with 'Chat Conversation Opened'\n",
    "df = df[df.event_name != 'Chat Conversation Opened']"
   ]
  },
  {
   "cell_type": "markdown",
   "id": "1021c886-24d6-4203-8083-4e59fa2fd88d",
   "metadata": {},
   "source": [
    "## Convert `event_attributes` values to dict"
   ]
  },
  {
   "cell_type": "code",
   "execution_count": 189,
   "id": "28cfd019-1b5f-4526-a303-cf2843a28e05",
   "metadata": {},
   "outputs": [],
   "source": [
    "df[\"event_attributes\"] = df.event_attributes.apply(lambda x: json.loads(x))"
   ]
  },
  {
   "cell_type": "code",
   "execution_count": 190,
   "id": "007d20c8-4045-48fc-9d4a-392d3bed23cd",
   "metadata": {},
   "outputs": [
    {
     "data": {
      "text/html": [
       "<div>\n",
       "<style scoped>\n",
       "    .dataframe tbody tr th:only-of-type {\n",
       "        vertical-align: middle;\n",
       "    }\n",
       "\n",
       "    .dataframe tbody tr th {\n",
       "        vertical-align: top;\n",
       "    }\n",
       "\n",
       "    .dataframe thead th {\n",
       "        text-align: right;\n",
       "    }\n",
       "</style>\n",
       "<table border=\"1\" class=\"dataframe\">\n",
       "  <thead>\n",
       "    <tr style=\"text-align: right;\">\n",
       "      <th></th>\n",
       "      <th>userid</th>\n",
       "      <th>user_state</th>\n",
       "      <th>event_name</th>\n",
       "      <th>event_attributes</th>\n",
       "      <th>event_created_date</th>\n",
       "      <th>event_platform</th>\n",
       "      <th>device_manufacture</th>\n",
       "      <th>device_model</th>\n",
       "    </tr>\n",
       "  </thead>\n",
       "  <tbody>\n",
       "    <tr>\n",
       "      <th>8281</th>\n",
       "      <td>03e0c91e1163e8b80e74e586a3e666d6</td>\n",
       "      <td>MD</td>\n",
       "      <td>Subscription Premium Cancel</td>\n",
       "      <td>{}</td>\n",
       "      <td>2022-02-24 19:45:02</td>\n",
       "      <td>ios</td>\n",
       "      <td>Apple</td>\n",
       "      <td>iPhone12,1</td>\n",
       "    </tr>\n",
       "    <tr>\n",
       "      <th>20026</th>\n",
       "      <td>051a5f8bce75a601be987980a09d4187</td>\n",
       "      <td>VA</td>\n",
       "      <td>Subscription Premium Cancel</td>\n",
       "      <td>{}</td>\n",
       "      <td>2022-04-06 10:12:37</td>\n",
       "      <td>ios</td>\n",
       "      <td>Apple</td>\n",
       "      <td>iPhone14,2</td>\n",
       "    </tr>\n",
       "    <tr>\n",
       "      <th>14018</th>\n",
       "      <td>05630c0e889fe7371fc74d7ae01f491f</td>\n",
       "      <td>FL</td>\n",
       "      <td>Subscription Premium Cancel</td>\n",
       "      <td>{}</td>\n",
       "      <td>2022-03-19 18:16:37</td>\n",
       "      <td>ios</td>\n",
       "      <td>Apple</td>\n",
       "      <td>iPhone13,2</td>\n",
       "    </tr>\n",
       "    <tr>\n",
       "      <th>3601</th>\n",
       "      <td>060153cf7a5844d9aed735d408b35f97</td>\n",
       "      <td>TX</td>\n",
       "      <td>Subscription Premium Cancel</td>\n",
       "      <td>{}</td>\n",
       "      <td>2022-02-11 15:06:11</td>\n",
       "      <td>ios</td>\n",
       "      <td>Apple</td>\n",
       "      <td>iPhone14,2</td>\n",
       "    </tr>\n",
       "    <tr>\n",
       "      <th>21092</th>\n",
       "      <td>078ae59f1ae79df514e846e5e51eca8b</td>\n",
       "      <td>CA</td>\n",
       "      <td>Subscription Premium Cancel</td>\n",
       "      <td>{}</td>\n",
       "      <td>2022-04-09 12:43:36</td>\n",
       "      <td>ios</td>\n",
       "      <td>Apple</td>\n",
       "      <td>iPhone12,1</td>\n",
       "    </tr>\n",
       "    <tr>\n",
       "      <th>...</th>\n",
       "      <td>...</td>\n",
       "      <td>...</td>\n",
       "      <td>...</td>\n",
       "      <td>...</td>\n",
       "      <td>...</td>\n",
       "      <td>...</td>\n",
       "      <td>...</td>\n",
       "      <td>...</td>\n",
       "    </tr>\n",
       "    <tr>\n",
       "      <th>19629</th>\n",
       "      <td>fc8e16ce7c98f58ba309cb7fc3cd1dec</td>\n",
       "      <td>TX</td>\n",
       "      <td>Subscription Premium Cancel</td>\n",
       "      <td>{}</td>\n",
       "      <td>2022-04-05 21:09:25</td>\n",
       "      <td>ios</td>\n",
       "      <td>Apple</td>\n",
       "      <td>iPhone10,5</td>\n",
       "    </tr>\n",
       "    <tr>\n",
       "      <th>16943</th>\n",
       "      <td>fc9b74bab85fdc6cbdb5b965ca9f760f</td>\n",
       "      <td>CA</td>\n",
       "      <td>Subscription Premium Cancel</td>\n",
       "      <td>{}</td>\n",
       "      <td>2022-03-28 13:08:43</td>\n",
       "      <td>ios</td>\n",
       "      <td>Apple</td>\n",
       "      <td>iPhone12,1</td>\n",
       "    </tr>\n",
       "    <tr>\n",
       "      <th>16944</th>\n",
       "      <td>fc9b74bab85fdc6cbdb5b965ca9f760f</td>\n",
       "      <td>CA</td>\n",
       "      <td>Subscription Premium Cancel</td>\n",
       "      <td>{}</td>\n",
       "      <td>2022-03-28 13:08:43</td>\n",
       "      <td>ios</td>\n",
       "      <td>Apple</td>\n",
       "      <td>iPhone12,1</td>\n",
       "    </tr>\n",
       "    <tr>\n",
       "      <th>10814</th>\n",
       "      <td>fd5bc86aa11a1c4b1d17f1e78f50e4a5</td>\n",
       "      <td>FL</td>\n",
       "      <td>Subscription Premium Cancel</td>\n",
       "      <td>{}</td>\n",
       "      <td>2022-03-05 19:09:39</td>\n",
       "      <td>android</td>\n",
       "      <td>samsung</td>\n",
       "      <td>SM-A515U</td>\n",
       "    </tr>\n",
       "    <tr>\n",
       "      <th>19645</th>\n",
       "      <td>fdb9c5f6193e1cc735a2c59e14882b0f</td>\n",
       "      <td>IL</td>\n",
       "      <td>Subscription Premium Cancel</td>\n",
       "      <td>{}</td>\n",
       "      <td>2022-04-05 23:20:28</td>\n",
       "      <td>android</td>\n",
       "      <td>samsung</td>\n",
       "      <td>SM-N986U</td>\n",
       "    </tr>\n",
       "  </tbody>\n",
       "</table>\n",
       "<p>271 rows × 8 columns</p>\n",
       "</div>"
      ],
      "text/plain": [
       "                                 userid user_state  \\\n",
       "8281   03e0c91e1163e8b80e74e586a3e666d6         MD   \n",
       "20026  051a5f8bce75a601be987980a09d4187         VA   \n",
       "14018  05630c0e889fe7371fc74d7ae01f491f         FL   \n",
       "3601   060153cf7a5844d9aed735d408b35f97         TX   \n",
       "21092  078ae59f1ae79df514e846e5e51eca8b         CA   \n",
       "...                                 ...        ...   \n",
       "19629  fc8e16ce7c98f58ba309cb7fc3cd1dec         TX   \n",
       "16943  fc9b74bab85fdc6cbdb5b965ca9f760f         CA   \n",
       "16944  fc9b74bab85fdc6cbdb5b965ca9f760f         CA   \n",
       "10814  fd5bc86aa11a1c4b1d17f1e78f50e4a5         FL   \n",
       "19645  fdb9c5f6193e1cc735a2c59e14882b0f         IL   \n",
       "\n",
       "                        event_name event_attributes   event_created_date  \\\n",
       "8281   Subscription Premium Cancel               {}  2022-02-24 19:45:02   \n",
       "20026  Subscription Premium Cancel               {}  2022-04-06 10:12:37   \n",
       "14018  Subscription Premium Cancel               {}  2022-03-19 18:16:37   \n",
       "3601   Subscription Premium Cancel               {}  2022-02-11 15:06:11   \n",
       "21092  Subscription Premium Cancel               {}  2022-04-09 12:43:36   \n",
       "...                            ...              ...                  ...   \n",
       "19629  Subscription Premium Cancel               {}  2022-04-05 21:09:25   \n",
       "16943  Subscription Premium Cancel               {}  2022-03-28 13:08:43   \n",
       "16944  Subscription Premium Cancel               {}  2022-03-28 13:08:43   \n",
       "10814  Subscription Premium Cancel               {}  2022-03-05 19:09:39   \n",
       "19645  Subscription Premium Cancel               {}  2022-04-05 23:20:28   \n",
       "\n",
       "      event_platform device_manufacture device_model  \n",
       "8281             ios              Apple   iPhone12,1  \n",
       "20026            ios              Apple   iPhone14,2  \n",
       "14018            ios              Apple   iPhone13,2  \n",
       "3601             ios              Apple   iPhone14,2  \n",
       "21092            ios              Apple   iPhone12,1  \n",
       "...              ...                ...          ...  \n",
       "19629            ios              Apple   iPhone10,5  \n",
       "16943            ios              Apple   iPhone12,1  \n",
       "16944            ios              Apple   iPhone12,1  \n",
       "10814        android            samsung     SM-A515U  \n",
       "19645        android            samsung     SM-N986U  \n",
       "\n",
       "[271 rows x 8 columns]"
      ]
     },
     "execution_count": 190,
     "metadata": {},
     "output_type": "execute_result"
    }
   ],
   "source": [
    "df[df.event_name == \"Subscription Premium Cancel\"]"
   ]
  },
  {
   "cell_type": "code",
   "execution_count": 191,
   "id": "3d297fc9-0329-4ca9-bc99-86ed67817eb3",
   "metadata": {},
   "outputs": [],
   "source": [
    "t = np.array(list(df.loc[450].event_attributes.values()))"
   ]
  },
  {
   "cell_type": "code",
   "execution_count": 192,
   "id": "b8c53bcd-0b4f-460f-8e5c-51802e039cf1",
   "metadata": {},
   "outputs": [
    {
     "data": {
      "text/plain": [
       "array(['Debit'], dtype='<U5')"
      ]
     },
     "execution_count": 192,
     "metadata": {},
     "output_type": "execute_result"
    }
   ],
   "source": [
    "np.delete(t, np.where(t == \"\"))"
   ]
  },
  {
   "cell_type": "code",
   "execution_count": 193,
   "id": "74b2e97b-17b3-4c32-af22-6d8a4800681f",
   "metadata": {},
   "outputs": [],
   "source": [
    "def convert_to_list(x):\n",
    "    if type(x) == dict:\n",
    "        return np.delete(np.array(list(x.values())), np.where(np.array(list(x.values())) == \"\"))"
   ]
  },
  {
   "cell_type": "code",
   "execution_count": 194,
   "id": "19719476-f514-45a2-a451-5aacb46d2197",
   "metadata": {},
   "outputs": [],
   "source": [
    "# df.event_attributes = df.event_attributes.apply(convert_to_list)"
   ]
  },
  {
   "cell_type": "code",
   "execution_count": null,
   "id": "7042f5b3-c609-4023-b2a7-1b2f74ef7ea1",
   "metadata": {},
   "outputs": [],
   "source": []
  },
  {
   "cell_type": "code",
   "execution_count": 195,
   "id": "6dbaf49c-205b-4050-8002-0749564d386b",
   "metadata": {},
   "outputs": [],
   "source": [
    "df.event_created_date = pd.to_datetime(df.event_created_date)"
   ]
  },
  {
   "cell_type": "code",
   "execution_count": 196,
   "id": "9b60f6ae-281f-42c1-a72e-114ab76d8aef",
   "metadata": {},
   "outputs": [
    {
     "data": {
      "text/html": [
       "<div>\n",
       "<style scoped>\n",
       "    .dataframe tbody tr th:only-of-type {\n",
       "        vertical-align: middle;\n",
       "    }\n",
       "\n",
       "    .dataframe tbody tr th {\n",
       "        vertical-align: top;\n",
       "    }\n",
       "\n",
       "    .dataframe thead th {\n",
       "        text-align: right;\n",
       "    }\n",
       "</style>\n",
       "<table border=\"1\" class=\"dataframe\">\n",
       "  <thead>\n",
       "    <tr style=\"text-align: right;\">\n",
       "      <th></th>\n",
       "      <th>userid</th>\n",
       "      <th>user_state</th>\n",
       "      <th>event_name</th>\n",
       "      <th>event_attributes</th>\n",
       "      <th>event_created_date</th>\n",
       "      <th>event_platform</th>\n",
       "      <th>device_manufacture</th>\n",
       "      <th>device_model</th>\n",
       "    </tr>\n",
       "  </thead>\n",
       "  <tbody>\n",
       "    <tr>\n",
       "      <th>450</th>\n",
       "      <td>0006869712ec9841dc36234bce245203</td>\n",
       "      <td>MD</td>\n",
       "      <td>Add Payment Method Success</td>\n",
       "      <td>{'Payment Method': 'Debit', 'Tokenized Pay': ''}</td>\n",
       "      <td>2022-01-19 18:47:45</td>\n",
       "      <td>android</td>\n",
       "      <td>samsung</td>\n",
       "      <td>SM-A716U</td>\n",
       "    </tr>\n",
       "    <tr>\n",
       "      <th>451</th>\n",
       "      <td>0006869712ec9841dc36234bce245203</td>\n",
       "      <td>MD</td>\n",
       "      <td>Subscription Premium</td>\n",
       "      <td>{'Start Date': '2022-01-19', 'Renewal Date': '...</td>\n",
       "      <td>2022-01-19 18:48:01</td>\n",
       "      <td>android</td>\n",
       "      <td>samsung</td>\n",
       "      <td>SM-A716U</td>\n",
       "    </tr>\n",
       "    <tr>\n",
       "      <th>452</th>\n",
       "      <td>0006869712ec9841dc36234bce245203</td>\n",
       "      <td>MD</td>\n",
       "      <td>Account History Transaction Details</td>\n",
       "      <td>{'Navigated From': 'Account History', 'Status'...</td>\n",
       "      <td>2022-01-19 18:48:08</td>\n",
       "      <td>android</td>\n",
       "      <td>samsung</td>\n",
       "      <td>SM-A716U</td>\n",
       "    </tr>\n",
       "    <tr>\n",
       "      <th>453</th>\n",
       "      <td>0006869712ec9841dc36234bce245203</td>\n",
       "      <td>MD</td>\n",
       "      <td>Account History Transaction Details</td>\n",
       "      <td>{'Navigated From': 'Account History', 'Status'...</td>\n",
       "      <td>2022-01-19 18:48:44</td>\n",
       "      <td>android</td>\n",
       "      <td>samsung</td>\n",
       "      <td>SM-A716U</td>\n",
       "    </tr>\n",
       "    <tr>\n",
       "      <th>454</th>\n",
       "      <td>0006869712ec9841dc36234bce245203</td>\n",
       "      <td>MD</td>\n",
       "      <td>Add Vehicle Success</td>\n",
       "      <td>{'Make': 'Chevrolet', 'Model': 'Express 3500',...</td>\n",
       "      <td>2022-01-19 18:50:34</td>\n",
       "      <td>android</td>\n",
       "      <td>samsung</td>\n",
       "      <td>SM-A716U</td>\n",
       "    </tr>\n",
       "  </tbody>\n",
       "</table>\n",
       "</div>"
      ],
      "text/plain": [
       "                               userid user_state  \\\n",
       "450  0006869712ec9841dc36234bce245203         MD   \n",
       "451  0006869712ec9841dc36234bce245203         MD   \n",
       "452  0006869712ec9841dc36234bce245203         MD   \n",
       "453  0006869712ec9841dc36234bce245203         MD   \n",
       "454  0006869712ec9841dc36234bce245203         MD   \n",
       "\n",
       "                              event_name  \\\n",
       "450           Add Payment Method Success   \n",
       "451                 Subscription Premium   \n",
       "452  Account History Transaction Details   \n",
       "453  Account History Transaction Details   \n",
       "454                  Add Vehicle Success   \n",
       "\n",
       "                                      event_attributes  event_created_date  \\\n",
       "450   {'Payment Method': 'Debit', 'Tokenized Pay': ''} 2022-01-19 18:47:45   \n",
       "451  {'Start Date': '2022-01-19', 'Renewal Date': '... 2022-01-19 18:48:01   \n",
       "452  {'Navigated From': 'Account History', 'Status'... 2022-01-19 18:48:08   \n",
       "453  {'Navigated From': 'Account History', 'Status'... 2022-01-19 18:48:44   \n",
       "454  {'Make': 'Chevrolet', 'Model': 'Express 3500',... 2022-01-19 18:50:34   \n",
       "\n",
       "    event_platform device_manufacture device_model  \n",
       "450        android            samsung     SM-A716U  \n",
       "451        android            samsung     SM-A716U  \n",
       "452        android            samsung     SM-A716U  \n",
       "453        android            samsung     SM-A716U  \n",
       "454        android            samsung     SM-A716U  "
      ]
     },
     "execution_count": 196,
     "metadata": {},
     "output_type": "execute_result"
    }
   ],
   "source": [
    "df.head()"
   ]
  },
  {
   "cell_type": "markdown",
   "id": "illegal-cornwall",
   "metadata": {},
   "source": [
    "# ГОРИМ В ЧАСІ БЛЯХА"
   ]
  },
  {
   "cell_type": "code",
   "execution_count": 198,
   "id": "excessive-compromise",
   "metadata": {},
   "outputs": [],
   "source": [
    "df = df.drop(columns=[\"event_attributes\", \"event_platform\", \"device_manufacture\", \"device_model\"])"
   ]
  },
  {
   "cell_type": "code",
   "execution_count": 199,
   "id": "b578235d-abc7-435a-bb3f-954393f1c3c9",
   "metadata": {},
   "outputs": [],
   "source": [
    "users_that_cancelled = df[df[\"event_name\"] == 'Subscription Premium Cancel'].userid.unique()"
   ]
  },
  {
   "cell_type": "code",
   "execution_count": 202,
   "id": "e626d6a6-a792-4afb-8b53-12f071c26b29",
   "metadata": {},
   "outputs": [],
   "source": [
    "df['cancelled_sub'] = np.where(df['userid'].isin(users_that_cancelled), True, False)"
   ]
  },
  {
   "cell_type": "code",
   "execution_count": 205,
   "id": "83587f68-c121-43ca-8f02-c9c515597ddd",
   "metadata": {},
   "outputs": [
    {
     "name": "stdout",
     "output_type": "stream",
     "text": [
      "Collecting catboost\n",
      "  Downloading catboost-1.1.1-cp38-none-macosx_10_6_universal2.whl (22.0 MB)\n",
      "\u001b[2K     \u001b[90m━━━━━━━━━━━━━━━━━━━━━━━━━━━━━━━━━━━━━━━━\u001b[0m \u001b[32m22.0/22.0 MB\u001b[0m \u001b[31m27.7 MB/s\u001b[0m eta \u001b[36m0:00:00\u001b[0m00:01\u001b[0m00:01\u001b[0m\n",
      "\u001b[?25hRequirement already satisfied: pandas>=0.24.0 in /Users/romankah/opt/anaconda3/envs/venv38/lib/python3.8/site-packages (from catboost) (1.5.2)\n",
      "Requirement already satisfied: numpy>=1.16.0 in /Users/romankah/opt/anaconda3/envs/venv38/lib/python3.8/site-packages (from catboost) (1.23.5)\n",
      "Requirement already satisfied: matplotlib in /Users/romankah/opt/anaconda3/envs/venv38/lib/python3.8/site-packages (from catboost) (3.6.3)\n",
      "Requirement already satisfied: scipy in /Users/romankah/opt/anaconda3/envs/venv38/lib/python3.8/site-packages (from catboost) (1.9.3)\n",
      "Requirement already satisfied: plotly in /Users/romankah/opt/anaconda3/envs/venv38/lib/python3.8/site-packages (from catboost) (5.11.0)\n",
      "Requirement already satisfied: six in /Users/romankah/opt/anaconda3/envs/venv38/lib/python3.8/site-packages (from catboost) (1.16.0)\n",
      "Collecting graphviz\n",
      "  Downloading graphviz-0.20.1-py3-none-any.whl (47 kB)\n",
      "\u001b[2K     \u001b[90m━━━━━━━━━━━━━━━━━━━━━━━━━━━━━━━━━━━━━━━━\u001b[0m \u001b[32m47.0/47.0 kB\u001b[0m \u001b[31m1.7 MB/s\u001b[0m eta \u001b[36m0:00:00\u001b[0m\n",
      "\u001b[?25hRequirement already satisfied: python-dateutil>=2.8.1 in /Users/romankah/opt/anaconda3/envs/venv38/lib/python3.8/site-packages (from pandas>=0.24.0->catboost) (2.8.2)\n",
      "Requirement already satisfied: pytz>=2020.1 in /Users/romankah/opt/anaconda3/envs/venv38/lib/python3.8/site-packages (from pandas>=0.24.0->catboost) (2022.7)\n",
      "Requirement already satisfied: contourpy>=1.0.1 in /Users/romankah/opt/anaconda3/envs/venv38/lib/python3.8/site-packages (from matplotlib->catboost) (1.0.6)\n",
      "Requirement already satisfied: fonttools>=4.22.0 in /Users/romankah/opt/anaconda3/envs/venv38/lib/python3.8/site-packages (from matplotlib->catboost) (4.38.0)\n",
      "Requirement already satisfied: pyparsing>=2.2.1 in /Users/romankah/opt/anaconda3/envs/venv38/lib/python3.8/site-packages (from matplotlib->catboost) (2.4.7)\n",
      "Requirement already satisfied: pillow>=6.2.0 in /Users/romankah/opt/anaconda3/envs/venv38/lib/python3.8/site-packages (from matplotlib->catboost) (9.3.0)\n",
      "Requirement already satisfied: cycler>=0.10 in /Users/romankah/opt/anaconda3/envs/venv38/lib/python3.8/site-packages (from matplotlib->catboost) (0.11.0)\n",
      "Requirement already satisfied: kiwisolver>=1.0.1 in /Users/romankah/opt/anaconda3/envs/venv38/lib/python3.8/site-packages (from matplotlib->catboost) (1.4.4)\n",
      "Requirement already satisfied: packaging>=20.0 in /Users/romankah/opt/anaconda3/envs/venv38/lib/python3.8/site-packages (from matplotlib->catboost) (21.3)\n",
      "Requirement already satisfied: tenacity>=6.2.0 in /Users/romankah/opt/anaconda3/envs/venv38/lib/python3.8/site-packages (from plotly->catboost) (8.1.0)\n",
      "Installing collected packages: graphviz, catboost\n",
      "Successfully installed catboost-1.1.1 graphviz-0.20.1\n"
     ]
    }
   ],
   "source": [
    "!pip install catboost"
   ]
  },
  {
   "cell_type": "code",
   "execution_count": 206,
   "id": "crazy-phoenix",
   "metadata": {},
   "outputs": [],
   "source": [
    "from xgboost import XGBClassifier\n",
    "from catboost import CatBoostClassifier\n"
   ]
  },
  {
   "cell_type": "code",
   "execution_count": 208,
   "id": "a870679d-a5e6-4417-8e80-8340f2eda4fa",
   "metadata": {},
   "outputs": [],
   "source": [
    "df = df.drop(columns=[\"userid\", \"event_created_date\"])"
   ]
  },
  {
   "cell_type": "code",
   "execution_count": 209,
   "id": "fd39429e-588d-43d0-a92b-c0378054e93c",
   "metadata": {},
   "outputs": [
    {
     "data": {
      "text/html": [
       "<div>\n",
       "<style scoped>\n",
       "    .dataframe tbody tr th:only-of-type {\n",
       "        vertical-align: middle;\n",
       "    }\n",
       "\n",
       "    .dataframe tbody tr th {\n",
       "        vertical-align: top;\n",
       "    }\n",
       "\n",
       "    .dataframe thead th {\n",
       "        text-align: right;\n",
       "    }\n",
       "</style>\n",
       "<table border=\"1\" class=\"dataframe\">\n",
       "  <thead>\n",
       "    <tr style=\"text-align: right;\">\n",
       "      <th></th>\n",
       "      <th>user_state</th>\n",
       "      <th>event_name</th>\n",
       "      <th>cancelled_sub</th>\n",
       "    </tr>\n",
       "  </thead>\n",
       "  <tbody>\n",
       "    <tr>\n",
       "      <th>450</th>\n",
       "      <td>MD</td>\n",
       "      <td>Add Payment Method Success</td>\n",
       "      <td>False</td>\n",
       "    </tr>\n",
       "    <tr>\n",
       "      <th>451</th>\n",
       "      <td>MD</td>\n",
       "      <td>Subscription Premium</td>\n",
       "      <td>False</td>\n",
       "    </tr>\n",
       "    <tr>\n",
       "      <th>452</th>\n",
       "      <td>MD</td>\n",
       "      <td>Account History Transaction Details</td>\n",
       "      <td>False</td>\n",
       "    </tr>\n",
       "    <tr>\n",
       "      <th>453</th>\n",
       "      <td>MD</td>\n",
       "      <td>Account History Transaction Details</td>\n",
       "      <td>False</td>\n",
       "    </tr>\n",
       "    <tr>\n",
       "      <th>454</th>\n",
       "      <td>MD</td>\n",
       "      <td>Add Vehicle Success</td>\n",
       "      <td>False</td>\n",
       "    </tr>\n",
       "    <tr>\n",
       "      <th>...</th>\n",
       "      <td>...</td>\n",
       "      <td>...</td>\n",
       "      <td>...</td>\n",
       "    </tr>\n",
       "    <tr>\n",
       "      <th>9874</th>\n",
       "      <td>PA</td>\n",
       "      <td>Sign Up Success</td>\n",
       "      <td>False</td>\n",
       "    </tr>\n",
       "    <tr>\n",
       "      <th>143</th>\n",
       "      <td>TX</td>\n",
       "      <td>Sign Up Success</td>\n",
       "      <td>False</td>\n",
       "    </tr>\n",
       "    <tr>\n",
       "      <th>1273</th>\n",
       "      <td>NY</td>\n",
       "      <td>Sign Up Success</td>\n",
       "      <td>False</td>\n",
       "    </tr>\n",
       "    <tr>\n",
       "      <th>1294</th>\n",
       "      <td>NY</td>\n",
       "      <td>Email Confirmation Success</td>\n",
       "      <td>False</td>\n",
       "    </tr>\n",
       "    <tr>\n",
       "      <th>1295</th>\n",
       "      <td>NY</td>\n",
       "      <td>Add Payment Method Success</td>\n",
       "      <td>False</td>\n",
       "    </tr>\n",
       "  </tbody>\n",
       "</table>\n",
       "<p>21801 rows × 3 columns</p>\n",
       "</div>"
      ],
      "text/plain": [
       "     user_state                           event_name  cancelled_sub\n",
       "450          MD           Add Payment Method Success          False\n",
       "451          MD                 Subscription Premium          False\n",
       "452          MD  Account History Transaction Details          False\n",
       "453          MD  Account History Transaction Details          False\n",
       "454          MD                  Add Vehicle Success          False\n",
       "...         ...                                  ...            ...\n",
       "9874         PA                      Sign Up Success          False\n",
       "143          TX                      Sign Up Success          False\n",
       "1273         NY                      Sign Up Success          False\n",
       "1294         NY           Email Confirmation Success          False\n",
       "1295         NY           Add Payment Method Success          False\n",
       "\n",
       "[21801 rows x 3 columns]"
      ]
     },
     "execution_count": 209,
     "metadata": {},
     "output_type": "execute_result"
    }
   ],
   "source": [
    "df"
   ]
  },
  {
   "cell_type": "code",
   "execution_count": 211,
   "id": "f6add33a-d472-44ad-ac07-5be8e20a8af5",
   "metadata": {},
   "outputs": [],
   "source": [
    "df = pd.get_dummies(df)"
   ]
  },
  {
   "cell_type": "code",
   "execution_count": 213,
   "id": "310f7c78-87b5-4568-89ba-3ecd2376886e",
   "metadata": {},
   "outputs": [],
   "source": [
    "X = df.copy()\n",
    "y = X.pop(\"cancelled_sub\")"
   ]
  },
  {
   "cell_type": "code",
   "execution_count": 216,
   "id": "contained-vietnamese",
   "metadata": {
    "scrolled": true
   },
   "outputs": [],
   "source": [
    "model_xgb = XGBClassifier()"
   ]
  },
  {
   "cell_type": "code",
   "execution_count": 217,
   "id": "79d8ddb1-a2de-462f-a5ec-255b03364449",
   "metadata": {},
   "outputs": [
    {
     "data": {
      "text/html": [
       "<style>#sk-container-id-1 {color: black;background-color: white;}#sk-container-id-1 pre{padding: 0;}#sk-container-id-1 div.sk-toggleable {background-color: white;}#sk-container-id-1 label.sk-toggleable__label {cursor: pointer;display: block;width: 100%;margin-bottom: 0;padding: 0.3em;box-sizing: border-box;text-align: center;}#sk-container-id-1 label.sk-toggleable__label-arrow:before {content: \"▸\";float: left;margin-right: 0.25em;color: #696969;}#sk-container-id-1 label.sk-toggleable__label-arrow:hover:before {color: black;}#sk-container-id-1 div.sk-estimator:hover label.sk-toggleable__label-arrow:before {color: black;}#sk-container-id-1 div.sk-toggleable__content {max-height: 0;max-width: 0;overflow: hidden;text-align: left;background-color: #f0f8ff;}#sk-container-id-1 div.sk-toggleable__content pre {margin: 0.2em;color: black;border-radius: 0.25em;background-color: #f0f8ff;}#sk-container-id-1 input.sk-toggleable__control:checked~div.sk-toggleable__content {max-height: 200px;max-width: 100%;overflow: auto;}#sk-container-id-1 input.sk-toggleable__control:checked~label.sk-toggleable__label-arrow:before {content: \"▾\";}#sk-container-id-1 div.sk-estimator input.sk-toggleable__control:checked~label.sk-toggleable__label {background-color: #d4ebff;}#sk-container-id-1 div.sk-label input.sk-toggleable__control:checked~label.sk-toggleable__label {background-color: #d4ebff;}#sk-container-id-1 input.sk-hidden--visually {border: 0;clip: rect(1px 1px 1px 1px);clip: rect(1px, 1px, 1px, 1px);height: 1px;margin: -1px;overflow: hidden;padding: 0;position: absolute;width: 1px;}#sk-container-id-1 div.sk-estimator {font-family: monospace;background-color: #f0f8ff;border: 1px dotted black;border-radius: 0.25em;box-sizing: border-box;margin-bottom: 0.5em;}#sk-container-id-1 div.sk-estimator:hover {background-color: #d4ebff;}#sk-container-id-1 div.sk-parallel-item::after {content: \"\";width: 100%;border-bottom: 1px solid gray;flex-grow: 1;}#sk-container-id-1 div.sk-label:hover label.sk-toggleable__label {background-color: #d4ebff;}#sk-container-id-1 div.sk-serial::before {content: \"\";position: absolute;border-left: 1px solid gray;box-sizing: border-box;top: 0;bottom: 0;left: 50%;z-index: 0;}#sk-container-id-1 div.sk-serial {display: flex;flex-direction: column;align-items: center;background-color: white;padding-right: 0.2em;padding-left: 0.2em;position: relative;}#sk-container-id-1 div.sk-item {position: relative;z-index: 1;}#sk-container-id-1 div.sk-parallel {display: flex;align-items: stretch;justify-content: center;background-color: white;position: relative;}#sk-container-id-1 div.sk-item::before, #sk-container-id-1 div.sk-parallel-item::before {content: \"\";position: absolute;border-left: 1px solid gray;box-sizing: border-box;top: 0;bottom: 0;left: 50%;z-index: -1;}#sk-container-id-1 div.sk-parallel-item {display: flex;flex-direction: column;z-index: 1;position: relative;background-color: white;}#sk-container-id-1 div.sk-parallel-item:first-child::after {align-self: flex-end;width: 50%;}#sk-container-id-1 div.sk-parallel-item:last-child::after {align-self: flex-start;width: 50%;}#sk-container-id-1 div.sk-parallel-item:only-child::after {width: 0;}#sk-container-id-1 div.sk-dashed-wrapped {border: 1px dashed gray;margin: 0 0.4em 0.5em 0.4em;box-sizing: border-box;padding-bottom: 0.4em;background-color: white;}#sk-container-id-1 div.sk-label label {font-family: monospace;font-weight: bold;display: inline-block;line-height: 1.2em;}#sk-container-id-1 div.sk-label-container {text-align: center;}#sk-container-id-1 div.sk-container {/* jupyter's `normalize.less` sets `[hidden] { display: none; }` but bootstrap.min.css set `[hidden] { display: none !important; }` so we also need the `!important` here to be able to override the default hidden behavior on the sphinx rendered scikit-learn.org. See: https://github.com/scikit-learn/scikit-learn/issues/21755 */display: inline-block !important;position: relative;}#sk-container-id-1 div.sk-text-repr-fallback {display: none;}</style><div id=\"sk-container-id-1\" class=\"sk-top-container\"><div class=\"sk-text-repr-fallback\"><pre>XGBClassifier(base_score=None, booster=None, callbacks=None,\n",
       "              colsample_bylevel=None, colsample_bynode=None,\n",
       "              colsample_bytree=None, early_stopping_rounds=None,\n",
       "              enable_categorical=False, eval_metric=None, feature_types=None,\n",
       "              gamma=None, gpu_id=None, grow_policy=None, importance_type=None,\n",
       "              interaction_constraints=None, learning_rate=None, max_bin=None,\n",
       "              max_cat_threshold=None, max_cat_to_onehot=None,\n",
       "              max_delta_step=None, max_depth=None, max_leaves=None,\n",
       "              min_child_weight=None, missing=nan, monotone_constraints=None,\n",
       "              n_estimators=100, n_jobs=None, num_parallel_tree=None,\n",
       "              predictor=None, random_state=None, ...)</pre><b>In a Jupyter environment, please rerun this cell to show the HTML representation or trust the notebook. <br />On GitHub, the HTML representation is unable to render, please try loading this page with nbviewer.org.</b></div><div class=\"sk-container\" hidden><div class=\"sk-item\"><div class=\"sk-estimator sk-toggleable\"><input class=\"sk-toggleable__control sk-hidden--visually\" id=\"sk-estimator-id-1\" type=\"checkbox\" checked><label for=\"sk-estimator-id-1\" class=\"sk-toggleable__label sk-toggleable__label-arrow\">XGBClassifier</label><div class=\"sk-toggleable__content\"><pre>XGBClassifier(base_score=None, booster=None, callbacks=None,\n",
       "              colsample_bylevel=None, colsample_bynode=None,\n",
       "              colsample_bytree=None, early_stopping_rounds=None,\n",
       "              enable_categorical=False, eval_metric=None, feature_types=None,\n",
       "              gamma=None, gpu_id=None, grow_policy=None, importance_type=None,\n",
       "              interaction_constraints=None, learning_rate=None, max_bin=None,\n",
       "              max_cat_threshold=None, max_cat_to_onehot=None,\n",
       "              max_delta_step=None, max_depth=None, max_leaves=None,\n",
       "              min_child_weight=None, missing=nan, monotone_constraints=None,\n",
       "              n_estimators=100, n_jobs=None, num_parallel_tree=None,\n",
       "              predictor=None, random_state=None, ...)</pre></div></div></div></div></div>"
      ],
      "text/plain": [
       "XGBClassifier(base_score=None, booster=None, callbacks=None,\n",
       "              colsample_bylevel=None, colsample_bynode=None,\n",
       "              colsample_bytree=None, early_stopping_rounds=None,\n",
       "              enable_categorical=False, eval_metric=None, feature_types=None,\n",
       "              gamma=None, gpu_id=None, grow_policy=None, importance_type=None,\n",
       "              interaction_constraints=None, learning_rate=None, max_bin=None,\n",
       "              max_cat_threshold=None, max_cat_to_onehot=None,\n",
       "              max_delta_step=None, max_depth=None, max_leaves=None,\n",
       "              min_child_weight=None, missing=nan, monotone_constraints=None,\n",
       "              n_estimators=100, n_jobs=None, num_parallel_tree=None,\n",
       "              predictor=None, random_state=None, ...)"
      ]
     },
     "execution_count": 217,
     "metadata": {},
     "output_type": "execute_result"
    }
   ],
   "source": [
    "model_xgb.fit(X, y)"
   ]
  },
  {
   "cell_type": "code",
   "execution_count": 218,
   "id": "20a44e00-b656-42d9-b250-e688e1ecb924",
   "metadata": {},
   "outputs": [
    {
     "data": {
      "text/plain": [
       "<AxesSubplot: >"
      ]
     },
     "execution_count": 218,
     "metadata": {},
     "output_type": "execute_result"
    },
    {
     "data": {
      "image/png": "[encoded data removed]",
      "text/plain": [
       "<Figure size 2000x1000 with 1 Axes>"
      ]
     },
     "metadata": {},
     "output_type": "display_data"
    }
   ],
   "source": [
    "feature_important = model_xgb.get_booster().get_score(importance_type='weight')\n",
    "keys = list(feature_important.keys())\n",
    "values = list(feature_important.values())\n",
    "\n",
    "data = pd.DataFrame(data=values, index=keys, columns=[\"score\"]).sort_values(by = \"score\", ascending=False)\n",
    "data.nlargest(40, columns=\"score\").plot(kind='barh', figsize = (20,10)) ## plot top 40 features"
   ]
  }
 ],
 "metadata": {
  "kernelspec": {
   "display_name": "Python 3 (ipykernel)",
   "language": "python",
   "name": "python3"
  },
  "language_info": {
   "codemirror_mode": {
    "name": "ipython",
    "version": 3
   },
   "file_extension": ".py",
   "mimetype": "text/x-python",
   "name": "python",
   "nbconvert_exporter": "python",
   "pygments_lexer": "ipython3",
   "version": "3.8.15"
  }
 },
 "nbformat": 4,
 "nbformat_minor": 5
}
